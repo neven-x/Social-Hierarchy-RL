{
  "cells": [
    {
      "cell_type": "markdown",
      "metadata": {
        "id": "view-in-github"
      },
      "source": [
        "<a href=\"https://colab.research.google.com/github/neven-x/Social-Hierarchy-RL/blob/main/RL_Social_Hierarchy_Demo.ipynb\" target=\"_parent\"><img src=\"https://colab.research.google.com/assets/colab-badge.svg\" alt=\"Open In Colab\"/></a>"
      ]
    },
    {
      "cell_type": "code",
      "source": [
        "! pip install pettingzoo"
      ],
      "metadata": {
        "colab": {
          "base_uri": "https://localhost:8080/"
        },
        "id": "YrKwdwP9YZ6T",
        "outputId": "55e0f0bd-d078-452e-de8b-0a9e20770f10"
      },
      "execution_count": 2,
      "outputs": [
        {
          "output_type": "stream",
          "name": "stdout",
          "text": [
            "Collecting pettingzoo\n",
            "  Downloading pettingzoo-1.23.1-py3-none-any.whl (826 kB)\n",
            "\u001b[2K     \u001b[90m━━━━━━━━━━━━━━━━━━━━━━━━━━━━━━━━━━━━━━━\u001b[0m \u001b[32m826.7/826.7 kB\u001b[0m \u001b[31m6.9 MB/s\u001b[0m eta \u001b[36m0:00:00\u001b[0m\n",
            "\u001b[?25hRequirement already satisfied: numpy>=1.21.0 in /usr/local/lib/python3.10/dist-packages (from pettingzoo) (1.22.4)\n",
            "Collecting gymnasium>=0.28.0 (from pettingzoo)\n",
            "  Downloading gymnasium-0.29.0-py3-none-any.whl (953 kB)\n",
            "\u001b[2K     \u001b[90m━━━━━━━━━━━━━━━━━━━━━━━━━━━━━━━━━━━━━━\u001b[0m \u001b[32m953.8/953.8 kB\u001b[0m \u001b[31m12.9 MB/s\u001b[0m eta \u001b[36m0:00:00\u001b[0m\n",
            "\u001b[?25hRequirement already satisfied: cloudpickle>=1.2.0 in /usr/local/lib/python3.10/dist-packages (from gymnasium>=0.28.0->pettingzoo) (2.2.1)\n",
            "Requirement already satisfied: typing-extensions>=4.3.0 in /usr/local/lib/python3.10/dist-packages (from gymnasium>=0.28.0->pettingzoo) (4.7.1)\n",
            "Collecting farama-notifications>=0.0.1 (from gymnasium>=0.28.0->pettingzoo)\n",
            "  Downloading Farama_Notifications-0.0.4-py3-none-any.whl (2.5 kB)\n",
            "Installing collected packages: farama-notifications, gymnasium, pettingzoo\n",
            "Successfully installed farama-notifications-0.0.4 gymnasium-0.29.0 pettingzoo-1.23.1\n"
          ]
        }
      ]
    },
    {
      "cell_type": "code",
      "execution_count": 12,
      "metadata": {
        "id": "jmu7fw-JNem8",
        "tags": [],
        "ExecuteTime": {
          "start_time": "2023-07-20T09:59:42.399207Z",
          "end_time": "2023-07-20T09:59:42.401951Z"
        }
      },
      "outputs": [],
      "source": [
        "import numpy as np\n",
        "import matplotlib.pyplot as plt\n",
        "from matplotlib import colors\n",
        "\n",
        "import gym\n",
        "from gym import spaces\n",
        "\n",
        "import functools\n",
        "import random\n",
        "from collections import deque\n",
        "from keras.models import Sequential\n",
        "from keras.layers import Dense, Conv2D, Flatten\n",
        "from keras.optimizers import Adam\n",
        "\n",
        "from pettingzoo.utils.env import ParallelEnv\n"
      ]
    },
    {
      "cell_type": "code",
      "execution_count": 86,
      "metadata": {
        "id": "jq_Xm1J6ysY8",
        "ExecuteTime": {
          "start_time": "2023-07-20T09:59:43.732384Z",
          "end_time": "2023-07-20T09:59:43.738991Z"
        }
      },
      "outputs": [],
      "source": [
        "class Hierarchy_Grid(ParallelEnv):\n",
        "    metadata = {\n",
        "        \"name\": \"Hierarchy Grid\",\n",
        "    }\n",
        "\n",
        "    def __init__(self, grid_size, num_agents, max_iter):\n",
        "        self.timestep = None\n",
        "        self.grid_size = grid_size\n",
        "        self.agents = np.arange(num_agents)\n",
        "        self.agent_positions = None\n",
        "        self.food_positions = []\n",
        "        self.fight_probs = None\n",
        "        self.rewards = {name: 0 for name in self.agents}\n",
        "\n",
        "        self.observation_space = spaces.MultiDiscrete([self.grid_size, self.grid_size, self.num_agents + 1])\n",
        "        self.action_space = spaces.Discrete(5)\n",
        "\n",
        "        self.food_position_map = np.zeros((self.grid_size, self.grid_size))\n",
        "        self.agent_position_maps = {}\n",
        "        self.max_iter = max_iter\n",
        "\n",
        "    def reset(self):\n",
        "        self.timestep = 0\n",
        "        self.fight_probs = {name: np.zeros(self.num_agents) for name in self.agents}\n",
        "\n",
        "        self.agent_positions = {}\n",
        "        self.agent_position_maps = {}\n",
        "        for agent in self.agents:\n",
        "\n",
        "            agent_position = np.random.randint(0, self.grid_size, 2)\n",
        "            self.agent_positions[agent] = agent_position\n",
        "\n",
        "            agent_position_map = np.zeros((self.grid_size, self.grid_size))\n",
        "            agent_position_map[tuple(agent_position)] = 1\n",
        "            self.agent_position_maps[agent] = agent_position_map\n",
        "\n",
        "        for i in range(7):\n",
        "            food_position = np.random.randint(0, self.grid_size, 2)\n",
        "            self.food_position_map[tuple(food_position)] += 1\n",
        "            self.food_positions.append(food_position)\n",
        "\n",
        "        observations = np.stack(self.agent_position_maps.values())\n",
        "        observations = np.concatenate([observations, np.expand_dims(self.food_position_map, axis=-1)], axis=-1)\n",
        "\n",
        "        observations = {name: observations for name in self.agents}\n",
        "        return observations, {}\n",
        "\n",
        "    def step(self, actions):\n",
        "\n",
        "        self.timestep += 1\n",
        "\n",
        "        for agent in self.agents:\n",
        "            action = actions[agent]\n",
        "            self.move_agent(agent, action)\n",
        "\n",
        "        self.several_on_food_tile()\n",
        "\n",
        "        if self.timestep > self.max_iter:\n",
        "            terminations = {name: True for name in self.agents}\n",
        "        else:\n",
        "            terminations = {name: False for name in self.agents}\n",
        "\n",
        "        # Add check if any agents have 0 food in which case they die\n",
        "\n",
        "        # observations = np.stack(self.agent_position_maps.values())\n",
        "        # observations = np.stack([observations, self.food_position_map])\n",
        "\n",
        "        observations = np.stack(self.agent_position_maps.values())\n",
        "        observations = np.concatenate([observations, np.expand_dims(self.food_position_map, axis=-1)], axis=-1)\n",
        "\n",
        "        observations = {name: observations for name in self.agents}\n",
        "\n",
        "        return observations, self.rewards, terminations, _, {}\n",
        "\n",
        "\n",
        "    def move_agent(self, agent, action):\n",
        "        # Move the agent based on the selected action\n",
        "        x, y = self.agent_positions[agent]\n",
        "\n",
        "        if action == 0:  # Up\n",
        "            x -= 1\n",
        "        elif action == 1:  # Down\n",
        "            x += 1\n",
        "        elif action == 2:  # Left\n",
        "            y -= 1\n",
        "        elif action == 3:  # Right\n",
        "            y += 1\n",
        "        elif action == 4:  # Stay\n",
        "            pass\n",
        "\n",
        "        # Check if the new position is within grid boundaries\n",
        "        if 0 <= x < self.grid_size and 0 <= y < self.grid_size:\n",
        "            self.agent_positions[agent] = (x, y)\n",
        "\n",
        "\n",
        "    def conflict(self, agent1, agent2):\n",
        "\n",
        "        def sig(x):\n",
        "            return 1 / (1 + np.exp(-x))\n",
        "\n",
        "        # Agents make decision to fight or leave\n",
        "        # 1 == fight, 0 == leave\n",
        "        decision1 = bool(np.random.binomial(1, sig(self.stay_probs[agent1][agent2])))\n",
        "        decision2 = bool(np.random.binomial(1, sig(self.stay_probs[agent2][agent1])))\n",
        "\n",
        "\n",
        "        # Outcome of fight is determined in case both decide to stay\n",
        "        outcome = np.random.binomial(1, 0.5)\n",
        "        if outcome == 0:\n",
        "            outcome = -1\n",
        "\n",
        "        if not (decision1):\n",
        "            self.relocate_agent(agent1)\n",
        "        if not (decision2):\n",
        "            self.relocate_agent(agent2)\n",
        "\n",
        "        reward_dict = {(False, False): (0, 0),\n",
        "                       (True, False): (5, 0),\n",
        "                       (False, True): (0, 5),\n",
        "                       (True, True): (5 * outcome, 5 * np.delete([-1,1], outcome))}\n",
        "\n",
        "        # Allocate rewards based on decisions and fight outcome\n",
        "        reward1, reward2 = reward_dict((decision1, decision2))\n",
        "        self.reward[agent1] += reward1\n",
        "        self.reward[agent2] += reward2\n",
        "\n",
        "        # Update future staying probabilities\n",
        "        lr = 0.01\n",
        "        self.stay_prob[agent1][agent2] += lr * reward1 * (decision1 - sig(self.stay_prob[agent1][agent2]))\n",
        "        self.stay_prob[agent2][agent1] += lr * reward2 * (decision2 - sig(self.stay_prob[agent2][agent1]))\n",
        "\n",
        "    def several_on_food_tile(self):\n",
        "        for food_tile in self.food_positions:\n",
        "            agents_on_tile = [agent for agent, position in self.agent_positions.items() if (position == food_tile).all()]\n",
        "\n",
        "        if len(agents_on_tile) > 1:\n",
        "\n",
        "            pairs = zip(agents_on_tile[:-1], agents_on_tile[1:])\n",
        "\n",
        "            for pair in pairs:\n",
        "\n",
        "                self.conflict(pair[0], pair[1])\n",
        "\n",
        "\n",
        "    def relocate_agent(self, agent):\n",
        "        # Relocate the agent to an adjacent position\n",
        "        agent_position = self.agent_positions[agent]\n",
        "\n",
        "        valid_position = False\n",
        "        step = 1\n",
        "        while not valid_position:\n",
        "\n",
        "            # Generate moves\n",
        "            possible_moves = np.array([[0, 1], [0, -1], [1, 0], [-1, 0]]) * step  # Right, Left, Down, Up\n",
        "\n",
        "            # Check if any of new positions are valid (within gridworld and not already occupied)\n",
        "            for move in possible_moves:\n",
        "                new_position = tuple(map(sum, zip(agent_position, move)))\n",
        "\n",
        "                if 0 <= new_position[0] < self.grid_size and 0 <= new_position[1] < self.grid_size:\n",
        "                    if new_position not in self.agent_positions.values():\n",
        "\n",
        "                        valid_position = True\n",
        "                        self.agent_positions[agent] = new_position\n",
        "                        agent_position_map = np.zeros((self.grid_size, self.grid_size))\n",
        "                        agent_position_map[new_position] = 1\n",
        "                        self.agent_positions_maps[agent] = agent_position_map\n",
        "\n",
        "            step += 1\n",
        "\n",
        "    def render(self):\n",
        "\n",
        "        fig = plt.figure(figsize=(5,5), frameon=False)\n",
        "\n",
        "        plt.title(\"Grid World\",size=13)\n",
        "        plt.xticks(np.arange(0,self.grid_size,1))\n",
        "        plt.yticks(np.arange(0,self.grid_size,1))\n",
        "\n",
        "        agent_position_map = sum(self.agent_position_maps.values())\n",
        "\n",
        "        plt.imshow(self.food_position_map, vmax = 2, cmap = 'Greens', alpha=0.4, extent=[0, 10, 0, 10])\n",
        "        plt.imshow(agent_position_map, vmax = 2, cmap = 'Reds', alpha=0.4, extent=[0, 10, 0, 10])\n",
        "\n",
        "        ax = plt.gca();\n",
        "        ax.grid()\n",
        "\n",
        "        plt.show()\n",
        "        plt.figure()\n",
        "\n",
        "gym.register(\n",
        "    id='Hierarchy_Grid',\n",
        "    entry_point=Hierarchy_Grid,\n",
        "    kwargs={'grid_size': 10, 'num_agents': 10, 'max_iter': 200}\n",
        ")\n",
        "\n",
        "env = gym.make('Hierarchy_Grid')"
      ]
    },
    {
      "cell_type": "code",
      "execution_count": 90,
      "outputs": [],
      "source": [
        "class DQNAgent:\n",
        "    def __init__(self, state_shape, action_size):\n",
        "        self.state_shape = state_shape\n",
        "        self.action_size = action_size\n",
        "        self.memory = deque(maxlen=2000)\n",
        "        self.gamma = 0.95 # discount rate\n",
        "        self.epsilon = 1.0 # exploration rate\n",
        "        self.epsilon_min = 0.01\n",
        "        self.epsilon_decay = 0.995\n",
        "        self.learning_rate = 0.001\n",
        "        self.model = self._build_model()\n",
        "        self.food = 50\n",
        "\n",
        "    def _build_model(self):\n",
        "        model = Sequential()\n",
        "        model.add(Conv2D(32, kernel_size=(3, 3), activation='relu', input_shape=self.state_shape))\n",
        "        model.add(Conv2D(64, kernel_size=(3, 3), activation='relu'))\n",
        "        model.add(Flatten())\n",
        "        model.add(Dense(128, activation='relu'))\n",
        "        model.add(Dense(self.action_size, activation='linear'))\n",
        "        model.compile(loss='mse', optimizer=Adam(lr=self.learning_rate))\n",
        "        return model\n",
        "\n",
        "    def remember(self, state, action, reward, next_state, done):\n",
        "        self.memory.append((state, action, reward, next_state, done))\n",
        "\n",
        "    def act(self, state):# action selection, epsilon-greedy.\n",
        "        if np.random.rand() <= self.epsilon:\n",
        "            return random.randrange(self.action_size)\n",
        "        act_values = self.model.predict(state)\n",
        "        return np.argmax(act_values[0])\n",
        "\n",
        "    # --- update, update the weight of the CNN in each step\n",
        "    def update(self, state, action, reward, next_state): # I just copied the code from replay\n",
        "        target_f = self.model.predict(state)\n",
        "\n",
        "        target = reward + self.gamma * np.amax(self.model.predict(next_state)[0])\n",
        "        target_f[0][action] = target\n",
        "        self.model.fit(state,target_f,epochs = 1, verbose = 0)\n",
        "\n",
        "    # ---- replay, learn from the memeory, generate new experience from past and train the model by new experience\n",
        "    def replay(self, batch_size):\n",
        "        minibatch = random.sample(self.memory, batch_size)\n",
        "        for state, action, reward, next_state, done in minibatch:\n",
        "            target = reward\n",
        "        if not done:\n",
        "            target = (reward + self.gamma *\n",
        "                      np.amax(self.model.predict(next_state)[0])) # Q-learning,model predict is output of all values\n",
        "        target_f = self.model.predict(state)\n",
        "        target_f[0][action] = target\n",
        "        self.model.fit(state, target_f, epochs=1, verbose=0) # guess, do gradient descent according to target value\n",
        "        if self.epsilon > self.epsilon_min:\n",
        "            self.epsilon *= self.epsilon_decay\n",
        "\n",
        "    def load(self, name):\n",
        "        self.model.load_weights(name)\n",
        "\n",
        "    def save(self, name):\n",
        "        self.model.save_weights(name)"
      ],
      "metadata": {
        "ExecuteTime": {
          "start_time": "2023-07-20T10:01:35.135171Z",
          "end_time": "2023-07-20T10:01:35.158698Z"
        },
        "id": "1wrPFPUDXYj5"
      }
    },
    {
      "cell_type": "code",
      "source": [
        "env = gym.make('Hierarchy_Grid')\n",
        "n_actions = env.action_space.n\n",
        "state_shape = env.observation_space\n",
        "\n",
        "Np = 10\n",
        "players = []\n",
        "action = []\n",
        "\n",
        "state = env.reset()\n",
        "env.render()\n",
        "\n",
        "for i in range(Np):\n",
        "  players.append(DQNAgent([10, 10, 11], n_actions))\n",
        "\n",
        "\n",
        "for p in range(Np):\n",
        "  action.append(players[p].act(state))\n",
        "\n",
        "next_state, reward, termination, temp1= env.step(action)\n",
        "print(action)\n",
        "# env.render()\n"
      ],
      "metadata": {
        "colab": {
          "base_uri": "https://localhost:8080/",
          "height": 520
        },
        "id": "djFA2lx0vgNS",
        "outputId": "f600baff-576b-4d9b-9184-64ea5f2ca872"
      },
      "execution_count": 97,
      "outputs": [
        {
          "output_type": "display_data",
          "data": {
            "text/plain": [
              "<Figure size 500x500 with 1 Axes>"
            ],
            "image/png": "[encoded data removed]"
          },
          "metadata": {}
        },
        {
          "output_type": "stream",
          "name": "stdout",
          "text": [
            "[array([6, 6]), array([2, 5]), array([8, 7]), array([6, 2]), array([3, 9]), array([4, 5]), array([7, 9])]\n",
            "[2, 2, 2, 3, 1, 2, 2, 4, 0, 0]\n"
          ]
        },
        {
          "output_type": "display_data",
          "data": {
            "text/plain": [
              "<Figure size 640x480 with 0 Axes>"
            ]
          },
          "metadata": {}
        }
      ]
    },
    {
      "cell_type": "code",
      "execution_count": 93,
      "metadata": {
        "id": "AI6-NSubtqn5",
        "colab": {
          "base_uri": "https://localhost:8080/",
          "height": 520
        },
        "outputId": "8a87e241-69ed-4ad0-95b8-b8cec7d05fa2"
      },
      "outputs": [
        {
          "output_type": "stream",
          "name": "stdout",
          "text": [
            "MultiDiscrete([10 10 11])\n"
          ]
        },
        {
          "output_type": "display_data",
          "data": {
            "text/plain": [
              "<Figure size 500x500 with 1 Axes>"
            ],
            "image/png": "[encoded data removed]"
          },
          "metadata": {}
        },
        {
          "output_type": "stream",
          "name": "stdout",
          "text": [
            "[array([0, 2]), array([5, 5]), array([0, 7]), array([2, 6]), array([6, 2]), array([4, 3]), array([9, 2])]\n"
          ]
        },
        {
          "output_type": "display_data",
          "data": {
            "text/plain": [
              "<Figure size 640x480 with 0 Axes>"
            ]
          },
          "metadata": {}
        }
      ],
      "source": [
        "env = gym.make('Hierarchy_Grid')\n",
        "n_actions = env.action_space.n\n",
        "state_shape = env.observation_space\n",
        "Np = 10\n",
        "players = []\n",
        "for i in range(Np):\n",
        "  players.append(DQNAgent([10, 10, 11], n_actions))\n",
        "\n",
        "state = env.reset() # initial state, maybe we don't want so reset the fight probs\n",
        "Neps = 1000\n",
        "# ---- model training/visulization loop\n",
        "for eps in range(Neps):\n",
        "    done = False\n",
        "while not done:\n",
        "    env.render()\n",
        "    action = []\n",
        "\n",
        "    # get actions of all agent\n",
        "    env.render()\n",
        "    for p in range(Np):\n",
        "        action.append(players[p].act(state))\n",
        "\n",
        "    next_state, reward, termination, temp1= env.step(action) # we need reward to be a list of size Np\n",
        "    done = np.all(termination.values())\n",
        "\n",
        "    for p in range(Np): # the DQN should also be updated in each step\n",
        "        players[p].remember(state,action[p],reward[p],next_state, done)\n",
        "\n",
        "    if not done:\n",
        "    # train the model in each step\n",
        "      players[p].update(state,action[p],reward[p],next_state)\n",
        "    state = next_state\n",
        "\n",
        "# train the model by replay, leverages memory\n",
        "# batch_size = 10 # try this first\n",
        "# for p in range(Np):\n",
        "#     players[p].replay(batch_size)"
      ]
    }
  ],
  "metadata": {
    "colab": {
      "provenance": []
    },
    "kernelspec": {
      "display_name": "Python 3 (ipykernel)",
      "language": "python",
      "name": "python3"
    },
    "language_info": {
      "codemirror_mode": {
        "name": "ipython",
        "version": 3
      },
      "file_extension": ".py",
      "mimetype": "text/x-python",
      "name": "python",
      "nbconvert_exporter": "python",
      "pygments_lexer": "ipython3",
      "version": "3.9.16"
    }
  },
  "nbformat": 4,
  "nbformat_minor": 0
}